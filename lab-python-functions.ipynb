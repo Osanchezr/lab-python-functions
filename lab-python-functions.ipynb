{
 "cells": [
  {
   "cell_type": "markdown",
   "id": "25d7736c-ba17-4aff-b6bb-66eba20fbf4e",
   "metadata": {},
   "source": [
    "# Lab | Functions"
   ]
  },
  {
   "cell_type": "markdown",
   "id": "0c581062-8967-4d93-b06e-62833222f930",
   "metadata": {
    "tags": []
   },
   "source": [
    "## Exercise: Managing Customer Orders with Functions\n",
    "\n",
    "In the previous exercise, you improved the code for managing customer orders by using loops and flow control. Now, let's take it a step further and refactor the code by introducing functions.\n",
    "\n",
    "Follow the steps below to complete the exercise:\n",
    "\n",
    "1. Define a function named `initialize_inventory` that takes `products` as a parameter. Inside the function, implement the code for initializing the inventory dictionary using a loop and user input.\n",
    "\n",
    "2. Define a function named `get_customer_orders` that takes no parameters. Inside the function, implement the code for prompting the user to enter the product names using a loop. The function should return the `customer_orders` set.\n",
    "\n",
    "3. Define a function named `update_inventory` that takes `customer_orders` and `inventory` as parameters. Inside the function, implement the code for updating the inventory dictionary based on the customer orders.\n",
    "\n",
    "4. Define a function named `calculate_order_statistics` that takes `customer_orders` and `products` as parameters. Inside the function, implement the code for calculating the order statistics (total products ordered, and percentage of unique products ordered). The function should return these values.\n",
    "\n",
    "5. Define a function named `print_order_statistics` that takes `order_statistics` as a parameter. Inside the function, implement the code for printing the order statistics.\n",
    "\n",
    "6. Define a function named `print_updated_inventory` that takes `inventory` as a parameter. Inside the function, implement the code for printing the updated inventory.\n",
    "\n",
    "7. Call the functions in the appropriate sequence to execute the program and manage customer orders.\n",
    "\n",
    "Hints for functions:\n",
    "\n",
    "- Consider the input parameters required for each function and their return values.\n",
    "- Utilize function parameters and return values to transfer data between functions.\n",
    "- Test your functions individually to ensure they work correctly.\n",
    "\n",
    "\n"
   ]
  },
  {
   "cell_type": "code",
   "execution_count": 21,
   "id": "913a8d61",
   "metadata": {},
   "outputs": [],
   "source": [
    "#step 1\n",
    "\n",
    "def initialize_inventory(products):\n",
    "    inventory={}\n",
    "    for product in products:\n",
    "        quantity = int(input(f\"Ingrese la cantidad de {product}\"))\n",
    "        inventory[product] = quantity\n",
    "    return inventory    "
   ]
  },
  {
   "cell_type": "code",
   "execution_count": 32,
   "id": "c01ab4e5",
   "metadata": {},
   "outputs": [],
   "source": [
    "#step 2\n",
    "\n",
    "def get_customer_orders():\n",
    "    customer_orders = set()\n",
    "    while True:\n",
    "        order = input(f\"ingrese el nombre de la orden del producto (o salir para terminar): \")\n",
    "        if order.lower() == \"salir\":\n",
    "            print(\"Orden de pedidos culminado\")\n",
    "            break\n",
    "        else:\n",
    "            customer_orders.add(order)\n",
    "\n",
    "    return customer_orders           "
   ]
  },
  {
   "cell_type": "code",
   "execution_count": 30,
   "id": "1d92f676",
   "metadata": {},
   "outputs": [],
   "source": [
    "#step 3\n",
    "\n",
    "def update_inventory(customer_orders, inventory):\n",
    "    for i in customer_orders :\n",
    "        if i in inventory and inventory[i] > 0:\n",
    "            inventory[i] -= 1\n",
    "        else:\n",
    "            print(f\"El producto {i} no queda en el inventario\")    \n",
    "    \n",
    "    return inventory"
   ]
  },
  {
   "cell_type": "code",
   "execution_count": 24,
   "id": "5a282e16",
   "metadata": {},
   "outputs": [],
   "source": [
    "#step 4\n",
    "\n",
    "def calculate_order_statistics(customer_orders, products):\n",
    "    total_product_order = len(customer_orders)\n",
    "    percentaje_product_order = total_product_order/len(products)*100\n",
    "\n",
    "    return total_product_order, percentaje_product_order\n",
    "   "
   ]
  },
  {
   "cell_type": "code",
   "execution_count": 43,
   "id": "ba4096a6",
   "metadata": {},
   "outputs": [],
   "source": [
    "#step 5\n",
    "\n",
    "def print_order_statistics(order_statistics):\n",
    "    total_products_ordered, unique_products_percentage = order_statistics\n",
    "    print(f\"Total de productos pedidos : {order_statistics[0]}\")\n",
    "    print(f\"porcentaje de productos unicos vendidos :{order_statistics[1]:.2f}%\")\n",
    "    "
   ]
  },
  {
   "cell_type": "code",
   "execution_count": 45,
   "id": "5107ab96",
   "metadata": {},
   "outputs": [],
   "source": [
    "#step 6\n",
    "\n",
    "def print_update_inventory(inventory):\n",
    "    print(\"inventario actualizado: \")\n",
    "    for clave, valor in inventory.items():\n",
    "        print(f\"{clave} : {valor}\")"
   ]
  },
  {
   "cell_type": "code",
   "execution_count": 46,
   "id": "2cea9b97",
   "metadata": {},
   "outputs": [
    {
     "name": "stdout",
     "output_type": "stream",
     "text": [
      "Orden de pedidos culminado\n",
      "Total de productos pedidos : 3\n",
      "porcentaje de productos unicos vendidos :60.00%\n",
      "inventario actualizado: \n",
      "hat : 9\n",
      "mug : 9\n",
      "keychain : 10\n",
      "book : 10\n",
      "t-shirt : 9\n"
     ]
    }
   ],
   "source": [
    "#step 7\n",
    "\n",
    "def main():\n",
    "    products = [\"hat\",\"mug\",\"keychain\",\"book\",\"t-shirt\"]\n",
    "\n",
    "    inventory = initialize_inventory(products)\n",
    "    customer_orders = get_customer_orders()\n",
    "    inventory = update_inventory(customer_orders, inventory)\n",
    "    order_statistics = calculate_order_statistics(customer_orders, products)\n",
    "    print_order_statistics(order_statistics)\n",
    "    print_update_inventory(inventory)\n",
    "\n",
    "# Ejecutar el programa\n",
    "if __name__ == \"__main__\":\n",
    "    main()\n"
   ]
  }
 ],
 "metadata": {
  "kernelspec": {
   "display_name": "Python 3 (ipykernel)",
   "language": "python",
   "name": "python3"
  },
  "language_info": {
   "codemirror_mode": {
    "name": "ipython",
    "version": 3
   },
   "file_extension": ".py",
   "mimetype": "text/x-python",
   "name": "python",
   "nbconvert_exporter": "python",
   "pygments_lexer": "ipython3",
   "version": "3.8.8"
  }
 },
 "nbformat": 4,
 "nbformat_minor": 5
}
